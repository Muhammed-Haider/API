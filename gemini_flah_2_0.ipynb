{
  "cells": [
    {
      "cell_type": "markdown",
      "metadata": {
        "id": "view-in-github",
        "colab_type": "text"
      },
      "source": [
        "<a href=\"https://colab.research.google.com/github/Muhammed-Haider/API/blob/main/gemini_flah_2_0.ipynb\" target=\"_parent\"><img src=\"https://colab.research.google.com/assets/colab-badge.svg\" alt=\"Open In Colab\"/></a>"
      ]
    },
    {
      "cell_type": "code",
      "execution_count": 1,
      "metadata": {
        "colab": {
          "base_uri": "https://localhost:8080/"
        },
        "id": "qQbiFu2DjJmB",
        "outputId": "950b731a-6c0d-4291-93ff-47f58b4644d0"
      },
      "outputs": [
        {
          "output_type": "stream",
          "name": "stdout",
          "text": [
            "\u001b[?25l   \u001b[90m━━━━━━━━━━━━━━━━━━━━━━━━━━━━━━━━━━━━━━━━\u001b[0m \u001b[32m0.0/1.0 MB\u001b[0m \u001b[31m?\u001b[0m eta \u001b[36m-:--:--\u001b[0m\r\u001b[2K   \u001b[91m━━━━━━━━━━━━━━━━━━━\u001b[0m\u001b[91m╸\u001b[0m\u001b[90m━━━━━━━━━━━━━━━━━━━━\u001b[0m \u001b[32m0.5/1.0 MB\u001b[0m \u001b[31m14.9 MB/s\u001b[0m eta \u001b[36m0:00:01\u001b[0m\r\u001b[2K   \u001b[90m━━━━━━━━━━━━━━━━━━━━━━━━━━━━━━━━━━━━━━━━\u001b[0m \u001b[32m1.0/1.0 MB\u001b[0m \u001b[31m14.3 MB/s\u001b[0m eta \u001b[36m0:00:00\u001b[0m\n",
            "\u001b[?25h\u001b[?25l   \u001b[90m━━━━━━━━━━━━━━━━━━━━━━━━━━━━━━━━━━━━━━━━\u001b[0m \u001b[32m0.0/411.2 kB\u001b[0m \u001b[31m?\u001b[0m eta \u001b[36m-:--:--\u001b[0m\r\u001b[2K   \u001b[90m━━━━━━━━━━━━━━━━━━━━━━━━━━━━━━━━━━━━━━━━\u001b[0m \u001b[32m411.2/411.2 kB\u001b[0m \u001b[31m18.7 MB/s\u001b[0m eta \u001b[36m0:00:00\u001b[0m\n",
            "\u001b[?25h"
          ]
        }
      ],
      "source": [
        "!pip install -qU langchain"
      ]
    },
    {
      "cell_type": "code",
      "execution_count": 2,
      "metadata": {
        "colab": {
          "base_uri": "https://localhost:8080/"
        },
        "id": "lNuO0s6CjhCB",
        "outputId": "83e9026f-bd0f-4ac1-fc6c-671eb14c39f7"
      },
      "outputs": [
        {
          "output_type": "stream",
          "name": "stdout",
          "text": [
            "\u001b[?25l   \u001b[90m━━━━━━━━━━━━━━━━━━━━━━━━━━━━━━━━━━━━━━━━\u001b[0m \u001b[32m0.0/2.5 MB\u001b[0m \u001b[31m?\u001b[0m eta \u001b[36m-:--:--\u001b[0m\r\u001b[2K   \u001b[91m━━━━━━━━━━━━━━━━━━━━━━━\u001b[0m\u001b[90m╺\u001b[0m\u001b[90m━━━━━━━━━━━━━━━━\u001b[0m \u001b[32m1.4/2.5 MB\u001b[0m \u001b[31m43.1 MB/s\u001b[0m eta \u001b[36m0:00:01\u001b[0m\r\u001b[2K   \u001b[90m━━━━━━━━━━━━━━━━━━━━━━━━━━━━━━━━━━━━━━━━\u001b[0m \u001b[32m2.5/2.5 MB\u001b[0m \u001b[31m36.7 MB/s\u001b[0m eta \u001b[36m0:00:00\u001b[0m\n",
            "\u001b[2K   \u001b[90m━━━━━━━━━━━━━━━━━━━━━━━━━━━━━━━━━━━━━━━━\u001b[0m \u001b[32m49.5/49.5 kB\u001b[0m \u001b[31m3.4 MB/s\u001b[0m eta \u001b[36m0:00:00\u001b[0m\n",
            "\u001b[2K   \u001b[90m━━━━━━━━━━━━━━━━━━━━━━━━━━━━━━━━━━━━━━━━\u001b[0m \u001b[32m41.3/41.3 kB\u001b[0m \u001b[31m1.9 MB/s\u001b[0m eta \u001b[36m0:00:00\u001b[0m\n",
            "\u001b[?25h"
          ]
        }
      ],
      "source": [
        "!pip install -qU google-generativeai\n",
        "!pip install -qU langchain-community\n",
        "!pip install -qU langchain-google-genai"
      ]
    },
    {
      "cell_type": "code",
      "execution_count": 3,
      "metadata": {
        "id": "6DBRUyVHjl8L"
      },
      "outputs": [],
      "source": [
        "from langchain_google_genai import  ChatGoogleGenerativeAI\n",
        "from langchain.prompts import PromptTemplate\n",
        "from langchain.chains import LLMChain"
      ]
    },
    {
      "cell_type": "code",
      "execution_count": 4,
      "metadata": {
        "id": "e4Jklhv_ls0_"
      },
      "outputs": [],
      "source": [
        "from google.colab import userdata\n",
        "google_api_key=userdata.get('GEMINI_API_KEY_NEW')"
      ]
    },
    {
      "cell_type": "code",
      "execution_count": 5,
      "metadata": {
        "id": "epcBuqablgkf"
      },
      "outputs": [],
      "source": [
        "llm:ChatGoogleGenerativeAI=ChatGoogleGenerativeAI(\n",
        "    api_key=google_api_key,\n",
        "    model='gemini-2.0-flash-exp',\n",
        "    temperature=0.1\n",
        ")\n"
      ]
    },
    {
      "cell_type": "code",
      "execution_count": 6,
      "metadata": {
        "colab": {
          "base_uri": "https://localhost:8080/",
          "height": 35
        },
        "id": "3m9NE6-AnmBf",
        "outputId": "0b53bbe0-666a-4918-ca59-96fae2b825fe"
      },
      "outputs": [
        {
          "output_type": "execute_result",
          "data": {
            "text/plain": [
              "'Hi there! How can I help you today?\\n'"
            ],
            "application/vnd.google.colaboratory.intrinsic+json": {
              "type": "string"
            }
          },
          "metadata": {},
          "execution_count": 6
        }
      ],
      "source": [
        "llm.invoke(\"Hello\").content\n"
      ]
    },
    {
      "cell_type": "code",
      "execution_count": 7,
      "metadata": {
        "id": "ao9toyLFptn7"
      },
      "outputs": [],
      "source": [
        "prompt_template=PromptTemplate(\n",
        "   input_variables=[\"question\"],\n",
        "    template=\"You are a helpful assistant. Answer the following question:\\n\\n{question}\"\n",
        ")\n",
        "\n"
      ]
    },
    {
      "cell_type": "code",
      "execution_count": 8,
      "metadata": {
        "id": "Vv1-qhU1qEN1",
        "colab": {
          "base_uri": "https://localhost:8080/"
        },
        "outputId": "c8b06455-32d4-43c0-ddab-2f6cf2179ebf"
      },
      "outputs": [
        {
          "output_type": "stream",
          "name": "stderr",
          "text": [
            "<ipython-input-8-8dae3fb10878>:2: LangChainDeprecationWarning: The class `LLMChain` was deprecated in LangChain 0.1.17 and will be removed in 1.0. Use :meth:`~RunnableSequence, e.g., `prompt | llm`` instead.\n",
            "  chain = LLMChain(llm=llm, prompt=prompt_template)\n"
          ]
        }
      ],
      "source": [
        "# Create the LLM chain\n",
        "chain = LLMChain(llm=llm, prompt=prompt_template)"
      ]
    },
    {
      "cell_type": "code",
      "execution_count": 10,
      "metadata": {
        "colab": {
          "base_uri": "https://localhost:8080/"
        },
        "id": "b0vJGOM5qM4p",
        "outputId": "5dcc04b1-3dae-4c52-af03-67809d34076e"
      },
      "outputs": [
        {
          "output_type": "stream",
          "name": "stdout",
          "text": [
            "Answer: LangChain is a framework designed to simplify the development of applications powered by large language models (LLMs). Think of it as a toolkit that provides building blocks and abstractions to help you:\n",
            "\n",
            "**Key Concepts and Functionality:**\n",
            "\n",
            "* **Chains:** LangChain's core concept. Chains are sequences of calls to LLMs or other utilities. They allow you to create complex workflows by connecting different components. For example, you could have a chain that first retrieves relevant information from a database, then uses an LLM to summarize it, and finally formats the output for the user.\n",
            "* **Components:** LangChain provides a wide range of pre-built components, including:\n",
            "    * **LLMs:** Interfaces to various LLMs (e.g., OpenAI's GPT models, Hugging Face models).\n",
            "    * **Prompts:** Tools for creating and managing prompts for LLMs.\n",
            "    * **Indexes:** Mechanisms for indexing and retrieving data (e.g., vector databases).\n",
            "    * **Memory:** Ways to store and retrieve information across multiple interactions with an LLM.\n",
            "    * **Agents:** Tools that allow LLMs to interact with the outside world (e.g., search the web, use APIs).\n",
            "    * **Callbacks:** Mechanisms for monitoring and logging the execution of chains.\n",
            "* **Flexibility:** LangChain is designed to be flexible and extensible. You can easily customize existing components or create your own.\n",
            "* **Abstraction:** It abstracts away many of the complexities of working directly with LLMs, making it easier to build sophisticated applications.\n",
            "* **Community:** LangChain has a large and active community, which means there's a lot of support and resources available.\n",
            "\n",
            "**In simpler terms, LangChain helps you:**\n",
            "\n",
            "* **Connect LLMs to other data sources:** Like databases, APIs, and the internet.\n",
            "* **Create complex workflows:** By chaining together different LLM calls and other operations.\n",
            "* **Manage prompts and context:** To get the best results from LLMs.\n",
            "* **Build more powerful and intelligent applications:** By leveraging the capabilities of LLMs in a structured way.\n",
            "\n",
            "**Why use LangChain?**\n",
            "\n",
            "* **Faster Development:** It provides pre-built components and abstractions, speeding up the development process.\n",
            "* **More Robust Applications:** It helps you build more reliable and maintainable applications by providing a structured approach.\n",
            "* **Easier Experimentation:** It makes it easier to experiment with different LLMs and techniques.\n",
            "* **Access to a Wide Range of Tools:** It provides access to a wide range of tools and integrations.\n",
            "\n",
            "**In summary, LangChain is a powerful framework that empowers developers to build sophisticated applications using large language models by providing a structured and flexible way to connect, orchestrate, and manage LLM interactions.** It's a valuable tool for anyone looking to leverage the power of LLMs in their projects.\n",
            "\n"
          ]
        }
      ],
      "source": [
        "import warnings\n",
        "\n",
        "# Suppress LangChainDeprecationWarning\n",
        "warnings.filterwarnings(\"ignore\", category=DeprecationWarning)\n",
        "\n",
        "# Run the chain with a sample question\n",
        "question = \"What is LangChain?\"\n",
        "response = chain.run({\"question\": question})\n",
        "\n",
        "print(\"Answer:\", response)"
      ]
    }
  ],
  "metadata": {
    "colab": {
      "provenance": [],
      "authorship_tag": "ABX9TyOKgR8jaz4ZYorgSvxhWiOw",
      "include_colab_link": true
    },
    "kernelspec": {
      "display_name": "Python 3",
      "name": "python3"
    },
    "language_info": {
      "name": "python"
    }
  },
  "nbformat": 4,
  "nbformat_minor": 0
}